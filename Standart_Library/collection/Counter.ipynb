{
 "cells": [
  {
   "cell_type": "markdown",
   "metadata": {},
   "source": [
    "#  Counter"
   ]
  },
  {
   "cell_type": "markdown",
   "metadata": {},
   "source": [
    "**Counter** - подкласс _dict_ для подсчёта хешируемых объектов.Это неупорядоченная коллекция, в которой элементы хранятся как ключи словаря, а их счетчики хранятся как значения словаря.\n",
    "\n",
    "Обычные словарные методы доступны для объектов Counter, за исключением двух, которые работают по-разному для счетчиков:\n",
    " - **fromkeys()**\n",
    " - **update()**"
   ]
  },
  {
   "cell_type": "code",
   "execution_count": 13,
   "metadata": {},
   "outputs": [],
   "source": [
    "from collections import Counter"
   ]
  },
  {
   "cell_type": "markdown",
   "metadata": {},
   "source": [
    "### most_common()"
   ]
  },
  {
   "cell_type": "markdown",
   "metadata": {},
   "source": [
    "\n",
    "Возвращает список из n наиболее распространенных элементов и их количество от наиболее распространенных до наименьших. Если n опущено или None, **most_common ()** возвращает все элементы счетчика. Элементы с равным количеством упорядочиваются произвольно."
   ]
  },
  {
   "cell_type": "code",
   "execution_count": 16,
   "metadata": {},
   "outputs": [
    {
     "data": {
      "text/plain": [
       "[('c', 5), ('a', 4)]"
      ]
     },
     "execution_count": 16,
     "metadata": {},
     "output_type": "execute_result"
    }
   ],
   "source": [
    "my_counter.most_common(2)"
   ]
  },
  {
   "cell_type": "markdown",
   "metadata": {},
   "source": [
    "### elements()"
   ]
  },
  {
   "cell_type": "markdown",
   "metadata": {},
   "source": [
    "Возвращает итератор по элементам, повторяющийся каждый столько раз, сколько его счетчик. Элементы возвращаются в произвольном порядке. Если количество элементов меньше единицы, elements () проигнорирует его."
   ]
  },
  {
   "cell_type": "code",
   "execution_count": 17,
   "metadata": {},
   "outputs": [
    {
     "data": {
      "text/plain": [
       "['a', 'a', 'a', 'a', 'b', 'b', 'b', 'b', 'c', 'c', 'c', 'c', 'c']"
      ]
     },
     "execution_count": 17,
     "metadata": {},
     "output_type": "execute_result"
    }
   ],
   "source": [
    "list(my_counter.elements())"
   ]
  },
  {
   "cell_type": "markdown",
   "metadata": {},
   "source": [
    "### subtract()"
   ]
  },
  {
   "cell_type": "markdown",
   "metadata": {},
   "source": [
    "Элементы вычитаются из итерации или из другого отображения (или счетчика). Подобно dict.update(), но вычитает счетчики вместо их замены. И входы, и выходы могут быть нулевыми или отрицательными."
   ]
  },
  {
   "cell_type": "code",
   "execution_count": 18,
   "metadata": {},
   "outputs": [
    {
     "name": "stdout",
     "output_type": "stream",
     "text": [
      "Counter({'c': 5, 'a': 4, 'b': 4})\n",
      "Counter({'c': 7, 'b': 4, 'a': 1})\n"
     ]
    },
    {
     "data": {
      "text/plain": [
       "Counter({'a': 3, 'b': 0, 'c': -2})"
      ]
     },
     "execution_count": 18,
     "metadata": {},
     "output_type": "execute_result"
    }
   ],
   "source": [
    "u_counter = Counter(a=1, b=4, c=7)\n",
    "print(my_counter)\n",
    "print(u_counter)\n",
    "my_counter.subtract(u_counter)\n",
    "my_counter"
   ]
  },
  {
   "cell_type": "markdown",
   "metadata": {},
   "source": [
    "### Common patterns for working with Counter objects:"
   ]
  },
  {
   "cell_type": "code",
   "execution_count": 29,
   "metadata": {},
   "outputs": [],
   "source": [
    "sum(my_counter.values())                 # сумма всех значений\n",
    "my_counter.clear()                       # скинуть все значения\n",
    "list(my_counter)                         # список уникальных значений\n",
    "set(my_counter)                          # конвертировать во множество\n",
    "dict(my_counter)                         # конвертировать в обычный словаь\n",
    "my_counter.items()                       # конвертировать в список кортежей (элемент, количество)\n",
    "my_counter += Counter()                  # удалить нули и отрицательные значения"
   ]
  }
 ],
 "metadata": {
  "kernelspec": {
   "display_name": "Python 3",
   "language": "python",
   "name": "python3"
  },
  "language_info": {
   "codemirror_mode": {
    "name": "ipython",
    "version": 3
   },
   "file_extension": ".py",
   "mimetype": "text/x-python",
   "name": "python",
   "nbconvert_exporter": "python",
   "pygments_lexer": "ipython3",
   "version": "3.8.5"
  }
 },
 "nbformat": 4,
 "nbformat_minor": 4
}
