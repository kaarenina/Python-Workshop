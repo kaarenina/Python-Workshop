{
 "cells": [
  {
   "cell_type": "markdown",
   "metadata": {},
   "source": [
    "# OrderedDict\n"
   ]
  },
  {
   "cell_type": "markdown",
   "metadata": {},
   "source": [
    "Упорядоченные словари похожи на обычные словари, но они запоминают порядок, в котором были вставлены элементы. При итерации по упорядоченному словарю элементы возвращаются в том порядке, в котором их ключи были добавлены впервые."
   ]
  },
  {
   "cell_type": "code",
   "execution_count": 12,
   "metadata": {},
   "outputs": [],
   "source": [
    "from collections import OrderedDict, defaultdict"
   ]
  },
  {
   "cell_type": "code",
   "execution_count": 13,
   "metadata": {},
   "outputs": [
    {
     "data": {
      "text/plain": [
       "OrderedDict([('a', 1), ('b', 2), ('c', 3), ('d', 4)])"
      ]
     },
     "execution_count": 13,
     "metadata": {},
     "output_type": "execute_result"
    }
   ],
   "source": [
    "or_dic = OrderedDict()\n",
    "or_dic['a'] = 1\n",
    "or_dic['b'] = 2\n",
    "or_dic['c'] = 3\n",
    "or_dic['d'] = 4\n",
    "or_dic"
   ]
  },
  {
   "cell_type": "markdown",
   "metadata": {},
   "source": [
    "# defaultdict"
   ]
  },
  {
   "cell_type": "markdown",
   "metadata": {},
   "source": [
    "Возвращает новый объект, подобный словарю. defaultdict - это подкласс встроенного класса dict. Он переопределяет один метод и добавляет одну переменную экземпляра с возможностью записи. Остальные функциональные возможности такие же, как у класса dict."
   ]
  },
  {
   "cell_type": "code",
   "execution_count": 14,
   "metadata": {},
   "outputs": [
    {
     "name": "stdout",
     "output_type": "stream",
     "text": [
      "defaultdict(<class 'float'>, {'a': 1, 'b': 2})\n",
      "0.0\n"
     ]
    }
   ],
   "source": [
    "d = defaultdict(float)\n",
    "d['a'] = 1\n",
    "d['b'] = 2\n",
    "print(d)\n",
    "print(d['k'])"
   ]
  }
 ],
 "metadata": {
  "kernelspec": {
   "display_name": "Python 3",
   "language": "python",
   "name": "python3"
  },
  "language_info": {
   "codemirror_mode": {
    "name": "ipython",
    "version": 3
   },
   "file_extension": ".py",
   "mimetype": "text/x-python",
   "name": "python",
   "nbconvert_exporter": "python",
   "pygments_lexer": "ipython3",
   "version": "3.8.5"
  }
 },
 "nbformat": 4,
 "nbformat_minor": 4
}
