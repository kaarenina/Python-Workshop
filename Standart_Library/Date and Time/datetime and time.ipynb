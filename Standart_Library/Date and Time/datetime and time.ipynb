{
 "cells": [
  {
   "cell_type": "markdown",
   "metadata": {},
   "source": [
    "# datetime module"
   ]
  },
  {
   "cell_type": "markdown",
   "metadata": {},
   "source": [
    "**Создаем datetime объект**"
   ]
  },
  {
   "cell_type": "code",
   "execution_count": 2,
   "metadata": {},
   "outputs": [
    {
     "name": "stdout",
     "output_type": "stream",
     "text": [
      "2020-10-10\n"
     ]
    }
   ],
   "source": [
    "import datetime\n",
    "\n",
    "print(datetime.date(2020, 10, 10))"
   ]
  },
  {
   "cell_type": "markdown",
   "metadata": {},
   "source": [
    "**Текущее время**"
   ]
  },
  {
   "cell_type": "code",
   "execution_count": 3,
   "metadata": {},
   "outputs": [
    {
     "name": "stdout",
     "output_type": "stream",
     "text": [
      "2020-10-07\n"
     ]
    }
   ],
   "source": [
    "print(datetime.date.today())"
   ]
  },
  {
   "cell_type": "markdown",
   "metadata": {},
   "source": [
    "**Модуль datetime** содержит другой метод, под названием **strftime**. \n",
    "Этот метод позволяет создавать строку, отображающую время в более понятной для человека форме. "
   ]
  },
  {
   "cell_type": "code",
   "execution_count": 10,
   "metadata": {},
   "outputs": [
    {
     "name": "stdout",
     "output_type": "stream",
     "text": [
      "2020-10-07\n",
      "01 September 2019\n"
     ]
    }
   ],
   "source": [
    "a = datetime.datetime.today().strftime('%Y-%m-%d')\n",
    "print(a)\n",
    "b = datetime.date(2019, 9, 1).strftime('%d %B %Y')\n",
    "print(b)"
   ]
  },
  {
   "cell_type": "markdown",
   "metadata": {},
   "source": [
    "Для определения формата мы можем использовать один из следующих кодов форматирования:\n",
    "\n",
    "- **%a**: аббревиатура дня недели. Например, Wed - от слова Wednesday (по умолчанию используются английские наименования)\n",
    "\n",
    "\n",
    "- **%A**: день недели полностью, например, Wednesday\n",
    "\n",
    "\n",
    "- **%b**: аббревиатура названия месяца. Например, Oct (сокращение от October)\n",
    "\n",
    "\n",
    "- **%B**: название месяца полностью, например, October\n",
    "\n",
    "\n",
    "- **%d**: день месяца, дополненный нулем, например, 01\n",
    "\n",
    "\n",
    "- **%m**: номер месяца, дополненный нулем, например, 05\n",
    "\n",
    "\n",
    "- **%y**: год в виде 2-х чисел\n",
    "\n",
    "\n",
    "- **%Y**: год в виде 4-х чисел\n",
    "\n",
    "\n",
    "- **%H**: час в 24-х часовом формате, например, 13\n",
    "\n",
    "\n",
    "- **%I**: час в 12-ти часовом формате, например, 01\n",
    "\n",
    "\n",
    "- **%M**: минута\n",
    "\n",
    "\n",
    "- **%S**: секунда\n",
    "\n",
    "\n",
    "- **%f**: микросекунда\n",
    "\n",
    "\n",
    "- **%p**: указатель AM/PM\n",
    "\n",
    "\n",
    "- **%c**: дата и время, отформатированные под текущую локаль\n",
    "\n",
    "\n",
    "- **%x**: дата, отформатированная под текущую локаль\n",
    "\n",
    "\n",
    "- **%X**: время, форматированное под текущую локаль"
   ]
  },
  {
   "cell_type": "markdown",
   "metadata": {},
   "source": [
    "Объект **datetime.datetime** содержит всю информацию объектов **datetime.date** + **datetime.time**."
   ]
  },
  {
   "cell_type": "markdown",
   "metadata": {},
   "source": [
    "# datetime.timedelta"
   ]
  },
  {
   "cell_type": "markdown",
   "metadata": {},
   "source": [
    "Модуль datetime.timedelta отображает разницу между двумя датами или временными отметками"
   ]
  },
  {
   "cell_type": "code",
   "execution_count": 13,
   "metadata": {},
   "outputs": [
    {
     "name": "stdout",
     "output_type": "stream",
     "text": [
      "6927\n",
      "47929\n"
     ]
    }
   ],
   "source": [
    "import datetime\n",
    " \n",
    "now = datetime.datetime.now()\n",
    " \n",
    "then = datetime.datetime(2001, 10, 20)\n",
    " \n",
    "delta = now - then\n",
    " \n",
    "print(delta.days) \n",
    "print(delta.seconds) "
   ]
  },
  {
   "cell_type": "markdown",
   "metadata": {},
   "source": [
    "# Модуль time"
   ]
  },
  {
   "cell_type": "markdown",
   "metadata": {},
   "source": [
    "Для систем Unix, эпоха началась в 1970 году. Это легко проверить:"
   ]
  },
  {
   "cell_type": "code",
   "execution_count": 15,
   "metadata": {},
   "outputs": [
    {
     "name": "stdout",
     "output_type": "stream",
     "text": [
      "time.struct_time(tm_year=1970, tm_mon=1, tm_mday=1, tm_hour=0, tm_min=0, tm_sec=0, tm_wday=3, tm_yday=1, tm_isdst=0)\n"
     ]
    }
   ],
   "source": [
    "import time\n",
    "print(time.gmtime(0))"
   ]
  },
  {
   "cell_type": "markdown",
   "metadata": {},
   "source": [
    "## time.ctime"
   ]
  },
  {
   "cell_type": "markdown",
   "metadata": {},
   "source": [
    "Функция **time.ctime** конвертирует время в секунды, начиная с некоторой эпохи, в строку, показывающую местное время. Если вы ничего не передадите данной функции, то настоящее время вернется обратно"
   ]
  },
  {
   "cell_type": "code",
   "execution_count": 21,
   "metadata": {},
   "outputs": [
    {
     "name": "stdout",
     "output_type": "stream",
     "text": [
      "Wed Oct  7 13:27:56 2020\n",
      "Mon Sep  3 05:10:39 2012\n"
     ]
    }
   ],
   "source": [
    "import time\n",
    "\n",
    "print(time.ctime())\n",
    "print(time.ctime(1346638239))"
   ]
  },
  {
   "cell_type": "markdown",
   "metadata": {},
   "source": [
    "## time.sleep"
   ]
  },
  {
   "cell_type": "markdown",
   "metadata": {},
   "source": [
    "Функция time.sleep дает возможность приостановить выполнение скрипта на определенное количество секунд"
   ]
  },
  {
   "cell_type": "code",
   "execution_count": 22,
   "metadata": {},
   "outputs": [
    {
     "name": "stdout",
     "output_type": "stream",
     "text": [
      "Slept for 2 seconds\n",
      "Slept for 2 seconds\n",
      "Slept for 2 seconds\n",
      "Slept for 2 seconds\n",
      "Slept for 2 seconds\n"
     ]
    }
   ],
   "source": [
    "import time\n",
    " \n",
    "for x in range(5):\n",
    "    time.sleep(2)\n",
    "    print(\"Slept for 2 seconds\")"
   ]
  },
  {
   "cell_type": "code",
   "execution_count": null,
   "metadata": {},
   "outputs": [],
   "source": []
  }
 ],
 "metadata": {
  "kernelspec": {
   "display_name": "Python 3",
   "language": "python",
   "name": "python3"
  },
  "language_info": {
   "codemirror_mode": {
    "name": "ipython",
    "version": 3
   },
   "file_extension": ".py",
   "mimetype": "text/x-python",
   "name": "python",
   "nbconvert_exporter": "python",
   "pygments_lexer": "ipython3",
   "version": "3.8.5"
  }
 },
 "nbformat": 4,
 "nbformat_minor": 4
}
