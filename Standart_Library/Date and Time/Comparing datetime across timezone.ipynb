{
 "cells": [
  {
   "cell_type": "markdown",
   "metadata": {},
   "source": [
    "## Сравнение времени с учётом часовых поясов"
   ]
  },
  {
   "cell_type": "markdown",
   "metadata": {},
   "source": [
    "### Целью данного упражнения является создание двух различных datetime и сравнение их, когда они находятся в разных часовых поясах"
   ]
  },
  {
   "cell_type": "code",
   "execution_count": 1,
   "metadata": {},
   "outputs": [],
   "source": [
    "import datetime\n",
    "from dateutil import tz"
   ]
  },
  {
   "cell_type": "markdown",
   "metadata": {},
   "source": [
    "- **Dateutil** - это не модуль стандартной библиотеки, \n",
    "хотя является модулем, рекомендованным стандартной библиотекой\n",
    "\n",
    "- Классы **tzinfo** и **timezone** применяются для работы с информацией, \n",
    "которая содержит сведения о часовых поясах\n",
    "\n",
    "- **dateutil.tz.gettz(name=None)**\n",
    "Получения объекта часового пояса из строкового представления\n",
    "Если аргумент пустой, возвращается местное время"
   ]
  },
  {
   "cell_type": "markdown",
   "metadata": {},
   "source": [
    " Создаем datetime для Мадрида и Лос-Анджелеса\n"
   ]
  },
  {
   "cell_type": "code",
   "execution_count": 2,
   "metadata": {},
   "outputs": [
    {
     "name": "stdout",
     "output_type": "stream",
     "text": [
      "True\n",
      "False\n"
     ]
    }
   ],
   "source": [
    "d1 = datetime.datetime(1989, 4, 24, hour=11,\n",
    "                       tzinfo = tz.gettz('Europe/Madrid'))\n",
    "d2 = datetime.datetime(1989, 4, 24, hour=8,\n",
    "                       tzinfo= tz.gettz('America/Los_Angeles'))\n",
    "\n",
    "print(d1.hour > d2.hour)\n",
    "print(d1 > d2)\n"
   ]
  },
  {
   "cell_type": "markdown",
   "metadata": {},
   "source": [
    "В первом примере мы можем видеть, что первый datetime обьект больше, \n",
    "чем второй (это так, потому что 11 часов больше, чем 8).\n",
    "\n",
    "Во втором примере видно, что первый datetime обьект не больше, чем второй\n",
    "(это так, потому что восемь часов наступит быстрее в Лос-Анджелесе, чем 11\n",
    "в Мадриде) "
   ]
  },
  {
   "cell_type": "markdown",
   "metadata": {},
   "source": [
    "Теперь конвертируем datetime обьект в другой часовой пояс"
   ]
  },
  {
   "cell_type": "code",
   "execution_count": 3,
   "metadata": {},
   "outputs": [
    {
     "name": "stdout",
     "output_type": "stream",
     "text": [
      "17\n"
     ]
    }
   ],
   "source": [
    "d2_madrid = d2.astimezone(tz.gettz('Europe/Madrid'))\n",
    "print(d2_madrid.hour)"
   ]
  },
  {
   "cell_type": "markdown",
   "metadata": {},
   "source": [
    "Разница во времени между городами Лос-Анджелес, Калифорния, США и Мадрид, Испания : 9 часов.\n",
    "По этому, когда в Лос-Анджелесе 8 часов, в Мадриде 15"
   ]
  },
  {
   "cell_type": "code",
   "execution_count": null,
   "metadata": {},
   "outputs": [],
   "source": []
  }
 ],
 "metadata": {
  "kernelspec": {
   "display_name": "Python 3",
   "language": "python",
   "name": "python3"
  },
  "language_info": {
   "codemirror_mode": {
    "name": "ipython",
    "version": 3
   },
   "file_extension": ".py",
   "mimetype": "text/x-python",
   "name": "python",
   "nbconvert_exporter": "python",
   "pygments_lexer": "ipython3",
   "version": "3.8.5"
  }
 },
 "nbformat": 4,
 "nbformat_minor": 4
}
